{
  "nbformat": 4,
  "nbformat_minor": 0,
  "metadata": {
    "colab": {
      "provenance": [],
      "authorship_tag": "ABX9TyNwdGxTQheO8FlyyWfRh952",
      "include_colab_link": true
    },
    "kernelspec": {
      "name": "python3",
      "display_name": "Python 3"
    },
    "language_info": {
      "name": "python"
    }
  },
  "cells": [
    {
      "cell_type": "markdown",
      "metadata": {
        "id": "view-in-github",
        "colab_type": "text"
      },
      "source": [
        "<a href=\"https://colab.research.google.com/github/bragavaas/big_data_curso/blob/main/big_data.ipynb\" target=\"_parent\"><img src=\"https://colab.research.google.com/assets/colab-badge.svg\" alt=\"Open In Colab\"/></a>"
      ]
    },
    {
      "cell_type": "markdown",
      "source": [
        "##Integrantes / Matrícula:\n",
        "\n",
        "* André Luiz Braga Vasco de Paula - 1210200290\n",
        "* Breno Matos - 1210102032\n",
        "* Gustavo Alves Barreto - 1210102589\n",
        "* Matheus Barros Leal Faria - 1210201424\n",
        "* Sérgio Ferraz - 1210102441\n",
        "\n",
        "\n",
        "\n",
        "\n",
        "\n"
      ],
      "metadata": {
        "id": "K_lai4AKr2OQ"
      }
    },
    {
      "cell_type": "code",
      "source": [
        "import pandas as pd\n",
        "\n",
        "dataset = pd.read_csv('/content/ds_salaries.csv')\n",
        "\n",
        "df = pd.DataFrame(data=dataset)"
      ],
      "metadata": {
        "id": "jOWWGQbjtLe6"
      },
      "execution_count": null,
      "outputs": []
    },
    {
      "cell_type": "markdown",
      "source": [
        "## Quais as dimensões do Dataframe?"
      ],
      "metadata": {
        "id": "Pw6kVg9_t8I6"
      }
    },
    {
      "cell_type": "code",
      "source": [
        "df.shape"
      ],
      "metadata": {
        "colab": {
          "base_uri": "https://localhost:8080/"
        },
        "id": "o6yAN0gyt-pL",
        "outputId": "ea62ba4b-bf37-424a-bde9-b2ddc3ca1e69"
      },
      "execution_count": null,
      "outputs": [
        {
          "output_type": "execute_result",
          "data": {
            "text/plain": [
              "(607, 12)"
            ]
          },
          "metadata": {},
          "execution_count": 9
        }
      ]
    },
    {
      "cell_type": "code",
      "source": [],
      "metadata": {
        "id": "CNX0oBpErbrr"
      },
      "execution_count": null,
      "outputs": []
    },
    {
      "cell_type": "markdown",
      "source": [
        "## Quais são as colunas apresentadas no dataframe?"
      ],
      "metadata": {
        "id": "VYJkN7s5uKZD"
      }
    },
    {
      "cell_type": "code",
      "source": [
        "colunas = list(df.columns)\n",
        "for coluna in colunas:\n",
        "  print(coluna)"
      ],
      "metadata": {
        "colab": {
          "base_uri": "https://localhost:8080/"
        },
        "id": "rn1JyQTUuR_d",
        "outputId": "47abd0af-5b50-4de2-c002-66d3e0642c3e"
      },
      "execution_count": null,
      "outputs": [
        {
          "output_type": "stream",
          "name": "stdout",
          "text": [
            "Unnamed: 0\n",
            "work_year\n",
            "experience_level\n",
            "employment_type\n",
            "job_title\n",
            "salary\n",
            "salary_currency\n",
            "salary_in_usd\n",
            "employee_residence\n",
            "remote_ratio\n",
            "company_location\n",
            "company_size\n"
          ]
        }
      ]
    },
    {
      "cell_type": "markdown",
      "source": [
        "## Qual o menor salário pago, em dólares americanos?"
      ],
      "metadata": {
        "id": "gwFJamQAuy88"
      }
    },
    {
      "cell_type": "code",
      "source": [
        "print(df['salary_in_usd'].min())"
      ],
      "metadata": {
        "colab": {
          "base_uri": "https://localhost:8080/"
        },
        "id": "7OI2YIgLvZon",
        "outputId": "2242d27a-3d1c-4a49-9bab-c6f5a8dcc002"
      },
      "execution_count": null,
      "outputs": [
        {
          "output_type": "stream",
          "name": "stdout",
          "text": [
            "2859\n"
          ]
        }
      ]
    },
    {
      "cell_type": "markdown",
      "source": [
        "## Qual o maior salário pago, em dólares americanos?"
      ],
      "metadata": {
        "id": "CO1yzhPmwv3T"
      }
    },
    {
      "cell_type": "code",
      "source": [
        "print(df.salary_in_usd.max())"
      ],
      "metadata": {
        "colab": {
          "base_uri": "https://localhost:8080/"
        },
        "id": "8gPnRoBIwzPG",
        "outputId": "09cff710-d66f-463f-f90c-5ce3385dd7d2"
      },
      "execution_count": null,
      "outputs": [
        {
          "output_type": "stream",
          "name": "stdout",
          "text": [
            "600000\n"
          ]
        }
      ]
    },
    {
      "cell_type": "markdown",
      "source": [
        "## Quais os cargos descritos?"
      ],
      "metadata": {
        "id": "PZfd0rHrw8pK"
      }
    },
    {
      "cell_type": "code",
      "source": [
        "cargos = list(df.job_title.unique())\n",
        "for cargo in cargos:\n",
        "  print(cargo)"
      ],
      "metadata": {
        "colab": {
          "base_uri": "https://localhost:8080/"
        },
        "id": "E4fLbjUOxBix",
        "outputId": "f0ad5751-c01a-4f7c-cb73-911b70eae223"
      },
      "execution_count": null,
      "outputs": [
        {
          "output_type": "stream",
          "name": "stdout",
          "text": [
            "Data Scientist\n",
            "Machine Learning Scientist\n",
            "Big Data Engineer\n",
            "Product Data Analyst\n",
            "Machine Learning Engineer\n",
            "Data Analyst\n",
            "Lead Data Scientist\n",
            "Business Data Analyst\n",
            "Lead Data Engineer\n",
            "Lead Data Analyst\n",
            "Data Engineer\n",
            "Data Science Consultant\n",
            "BI Data Analyst\n",
            "Director of Data Science\n",
            "Research Scientist\n",
            "Machine Learning Manager\n",
            "Data Engineering Manager\n",
            "Machine Learning Infrastructure Engineer\n",
            "ML Engineer\n",
            "AI Scientist\n",
            "Computer Vision Engineer\n",
            "Principal Data Scientist\n",
            "Data Science Manager\n",
            "Head of Data\n",
            "3D Computer Vision Researcher\n",
            "Data Analytics Engineer\n",
            "Applied Data Scientist\n",
            "Marketing Data Analyst\n",
            "Cloud Data Engineer\n",
            "Financial Data Analyst\n",
            "Computer Vision Software Engineer\n",
            "Director of Data Engineering\n",
            "Data Science Engineer\n",
            "Principal Data Engineer\n",
            "Machine Learning Developer\n",
            "Applied Machine Learning Scientist\n",
            "Data Analytics Manager\n",
            "Head of Data Science\n",
            "Data Specialist\n",
            "Data Architect\n",
            "Finance Data Analyst\n",
            "Principal Data Analyst\n",
            "Big Data Architect\n",
            "Staff Data Scientist\n",
            "Analytics Engineer\n",
            "ETL Developer\n",
            "Head of Machine Learning\n",
            "NLP Engineer\n",
            "Lead Machine Learning Engineer\n",
            "Data Analytics Lead\n"
          ]
        }
      ]
    },
    {
      "cell_type": "markdown",
      "source": [
        "## Quantos cargos foram descritos?"
      ],
      "metadata": {
        "id": "L-FoG4hrxUdk"
      }
    },
    {
      "cell_type": "code",
      "source": [
        "df.job_title.count()"
      ],
      "metadata": {
        "colab": {
          "base_uri": "https://localhost:8080/"
        },
        "id": "Rnr34XG-xcgz",
        "outputId": "95e10a4d-26b7-4a19-be87-fe873f7b6e30"
      },
      "execution_count": null,
      "outputs": [
        {
          "output_type": "execute_result",
          "data": {
            "text/plain": [
              "607"
            ]
          },
          "metadata": {},
          "execution_count": 11
        }
      ]
    },
    {
      "cell_type": "markdown",
      "source": [
        "## Qual a moeda em que mais salários foram pagos?"
      ],
      "metadata": {
        "id": "8jRG6Sg2yT8K"
      }
    },
    {
      "cell_type": "code",
      "source": [
        "df.salary_currency.value_counts().idxmax()"
      ],
      "metadata": {
        "colab": {
          "base_uri": "https://localhost:8080/",
          "height": 35
        },
        "id": "wp8P0ByCybE-",
        "outputId": "9aa24ea5-d8f7-427c-d254-ed18664b9fc0"
      },
      "execution_count": null,
      "outputs": [
        {
          "output_type": "execute_result",
          "data": {
            "text/plain": [
              "'USD'"
            ],
            "application/vnd.google.colaboratory.intrinsic+json": {
              "type": "string"
            }
          },
          "metadata": {},
          "execution_count": 55
        }
      ]
    },
    {
      "cell_type": "markdown",
      "source": [
        "## Qual as médias e medianas dos salários pagos, em dólar, para cada cargo?"
      ],
      "metadata": {
        "id": "k16KxwD3yX2y"
      }
    },
    {
      "cell_type": "code",
      "source": [
        "res = df.groupby('job_title')['salary_in_usd'].agg(['mean', 'median'])\n",
        "print(res)"
      ],
      "metadata": {
        "colab": {
          "base_uri": "https://localhost:8080/"
        },
        "id": "IMHTb3tS1PVz",
        "outputId": "d1e5ae43-ce69-441f-bfe4-d60b02a64698"
      },
      "execution_count": null,
      "outputs": [
        {
          "output_type": "stream",
          "name": "stdout",
          "text": [
            "                                                   mean    median\n",
            "job_title                                                        \n",
            "3D Computer Vision Researcher               5409.000000    5409.0\n",
            "AI Scientist                               66135.571429   45896.0\n",
            "Analytics Engineer                        175000.000000  179850.0\n",
            "Applied Data Scientist                    175655.000000  157000.0\n",
            "Applied Machine Learning Scientist        142068.750000   56700.0\n",
            "BI Data Analyst                            74755.166667   76500.0\n",
            "Big Data Architect                         99703.000000   99703.0\n",
            "Big Data Engineer                          51974.000000   41305.5\n",
            "Business Data Analyst                      76691.200000   70912.0\n",
            "Cloud Data Engineer                       124647.000000  124647.0\n",
            "Computer Vision Engineer                   44419.333333   26304.5\n",
            "Computer Vision Software Engineer         105248.666667   95746.0\n",
            "Data Analyst                               92893.061856   90320.0\n",
            "Data Analytics Engineer                    64799.250000   64598.5\n",
            "Data Analytics Lead                       405000.000000  405000.0\n",
            "Data Analytics Manager                    127134.285714  120000.0\n",
            "Data Architect                            177873.909091  180000.0\n",
            "Data Engineer                             112725.000000  105500.0\n",
            "Data Engineering Manager                  123227.200000  150000.0\n",
            "Data Science Consultant                    69420.714286   76833.0\n",
            "Data Science Engineer                      75803.333333   60000.0\n",
            "Data Science Manager                      158328.500000  155750.0\n",
            "Data Scientist                            108187.832168  103691.0\n",
            "Data Specialist                           165000.000000  165000.0\n",
            "Director of Data Engineering              156738.000000  156738.0\n",
            "Director of Data Science                  195074.000000  168000.0\n",
            "ETL Developer                              54957.000000   54957.0\n",
            "Finance Data Analyst                       61896.000000   61896.0\n",
            "Financial Data Analyst                    275000.000000  275000.0\n",
            "Head of Data                              160162.600000  200000.0\n",
            "Head of Data Science                      146718.750000  138937.5\n",
            "Head of Machine Learning                   79039.000000   79039.0\n",
            "Lead Data Analyst                          92203.000000   87000.0\n",
            "Lead Data Engineer                        139724.500000  121593.5\n",
            "Lead Data Scientist                       115190.000000  115000.0\n",
            "Lead Machine Learning Engineer             87932.000000   87932.0\n",
            "ML Engineer                               117504.000000   70537.5\n",
            "Machine Learning Developer                 85860.666667   78791.0\n",
            "Machine Learning Engineer                 104880.146341   87932.0\n",
            "Machine Learning Infrastructure Engineer  101145.000000   58255.0\n",
            "Machine Learning Manager                  117104.000000  117104.0\n",
            "Machine Learning Scientist                158412.500000  156500.0\n",
            "Marketing Data Analyst                     88654.000000   88654.0\n",
            "NLP Engineer                               37236.000000   37236.0\n",
            "Principal Data Analyst                    122500.000000  122500.0\n",
            "Principal Data Engineer                   328333.333333  200000.0\n",
            "Principal Data Scientist                  215242.428571  173762.0\n",
            "Product Data Analyst                       13036.000000   13036.0\n",
            "Research Scientist                        109019.500000   76263.5\n",
            "Staff Data Scientist                      105000.000000  105000.0\n"
          ]
        }
      ]
    },
    {
      "cell_type": "markdown",
      "source": [
        "## Quais os valores totais dos salários pagos (as somas de todos os salários pagos por cada país), em dólar, para cada país contratante?"
      ],
      "metadata": {
        "id": "TZ5yszqIqpRf"
      }
    },
    {
      "cell_type": "code",
      "source": [
        "res = df.groupby('company_location')['salary_in_usd'].sum()\n",
        "print(res)"
      ],
      "metadata": {
        "colab": {
          "base_uri": "https://localhost:8080/"
        },
        "id": "Lj-OJPShq4Jd",
        "outputId": "ef22f493-b674-410d-f58b-c834b8535958"
      },
      "execution_count": null,
      "outputs": [
        {
          "output_type": "stream",
          "name": "stdout",
          "text": [
            "company_location\n",
            "AE      300000\n",
            "AS       18053\n",
            "AT      291683\n",
            "AU      324128\n",
            "BE      171398\n",
            "BR       55808\n",
            "CA     2994712\n",
            "CH      128228\n",
            "CL       40038\n",
            "CN      143331\n",
            "CO       21844\n",
            "CZ      101874\n",
            "DE     2292842\n",
            "DK      163159\n",
            "DZ      100000\n",
            "EE       32974\n",
            "ES      742842\n",
            "FR      959560\n",
            "GB     3834403\n",
            "GR      575224\n",
            "HN       20000\n",
            "HR       45618\n",
            "HU       35735\n",
            "IE       71444\n",
            "IL      119059\n",
            "IN      685962\n",
            "IQ      100000\n",
            "IR        4000\n",
            "IT       72733\n",
            "JP      684764\n",
            "KE        9272\n",
            "LU      131828\n",
            "MD       18000\n",
            "MT       28369\n",
            "MX       96370\n",
            "MY       40000\n",
            "NG       60000\n",
            "NL      219783\n",
            "NZ      125000\n",
            "PK       40000\n",
            "PL      264330\n",
            "PT      191175\n",
            "RO       60000\n",
            "RU      315000\n",
            "SG       89294\n",
            "SI      127662\n",
            "TR       60290\n",
            "UA       13400\n",
            "US    51139618\n",
            "VN        4000\n",
            "Name: salary_in_usd, dtype: int64\n"
          ]
        }
      ]
    }
  ]
}